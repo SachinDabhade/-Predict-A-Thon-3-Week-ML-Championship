{
 "cells": [
  {
   "cell_type": "markdown",
   "id": "9df12882",
   "metadata": {},
   "source": [
    "## Reading the Dataset"
   ]
  },
  {
   "cell_type": "code",
   "execution_count": 1,
   "id": "8fcd8afd",
   "metadata": {},
   "outputs": [],
   "source": [
    "# Importing the required library\n",
    "import pandas as pd"
   ]
  },
  {
   "cell_type": "code",
   "execution_count": 4,
   "id": "ad0ea26e",
   "metadata": {},
   "outputs": [],
   "source": [
    "# Reading the dataset\n",
    "data = pd.read_csv(r'C:\\Users\\SACHIN\\Desktop\\MachineHack\\train.csv')"
   ]
  },
  {
   "cell_type": "code",
   "execution_count": 5,
   "id": "de77182d",
   "metadata": {},
   "outputs": [
    {
     "data": {
      "text/html": [
       "<div>\n",
       "<style scoped>\n",
       "    .dataframe tbody tr th:only-of-type {\n",
       "        vertical-align: middle;\n",
       "    }\n",
       "\n",
       "    .dataframe tbody tr th {\n",
       "        vertical-align: top;\n",
       "    }\n",
       "\n",
       "    .dataframe thead th {\n",
       "        text-align: right;\n",
       "    }\n",
       "</style>\n",
       "<table border=\"1\" class=\"dataframe\">\n",
       "  <thead>\n",
       "    <tr style=\"text-align: right;\">\n",
       "      <th></th>\n",
       "      <th>orderID</th>\n",
       "      <th>orderTime</th>\n",
       "      <th>userID</th>\n",
       "      <th>couponID</th>\n",
       "      <th>price</th>\n",
       "      <th>basePrice</th>\n",
       "      <th>reward</th>\n",
       "      <th>premiumProduct</th>\n",
       "      <th>productGroup</th>\n",
       "      <th>categoryIDs</th>\n",
       "      <th>couponUsed</th>\n",
       "    </tr>\n",
       "  </thead>\n",
       "  <tbody>\n",
       "    <tr>\n",
       "      <th>0</th>\n",
       "      <td>3829</td>\n",
       "      <td>2015-02-17 15:49:32</td>\n",
       "      <td>37aa37a3d4db63cfedbf976daddebf5c</td>\n",
       "      <td>a35974920ba3c9b3a6e50a89910e6b81</td>\n",
       "      <td>9.170000</td>\n",
       "      <td>2.040000</td>\n",
       "      <td>0.940000</td>\n",
       "      <td>1</td>\n",
       "      <td>c06dc2b4a5f7ecdfa27a83acf7a29423</td>\n",
       "      <td>b7e3b0110f96213f5087034b92be487a,667daa357f899...</td>\n",
       "      <td>1</td>\n",
       "    </tr>\n",
       "    <tr>\n",
       "      <th>1</th>\n",
       "      <td>4805</td>\n",
       "      <td>2015-02-25 20:28:10</td>\n",
       "      <td>a8336131974a67f838d998609c0e2604</td>\n",
       "      <td>3867cafee56ece2ea5f8db4815cadcb6</td>\n",
       "      <td>11.580000</td>\n",
       "      <td>4.820000</td>\n",
       "      <td>1.260000</td>\n",
       "      <td>0</td>\n",
       "      <td>369e08938fbb263ee8d7700a909231c3</td>\n",
       "      <td>f03040c27bfa597712980825477b32d5</td>\n",
       "      <td>0</td>\n",
       "    </tr>\n",
       "    <tr>\n",
       "      <th>2</th>\n",
       "      <td>1658</td>\n",
       "      <td>2015-02-28 23:30:58</td>\n",
       "      <td>f929ef735361e29928150e526255e4a4</td>\n",
       "      <td>cb82eed23c715dc002ce4d8070aedaf7</td>\n",
       "      <td>6.308566</td>\n",
       "      <td>4.385443</td>\n",
       "      <td>1.942977</td>\n",
       "      <td>0</td>\n",
       "      <td>766fb91efebff83f298f780e7524b276</td>\n",
       "      <td>b7e3b0110f96213f5087034b92be487a</td>\n",
       "      <td>0</td>\n",
       "    </tr>\n",
       "    <tr>\n",
       "      <th>3</th>\n",
       "      <td>2029</td>\n",
       "      <td>2015-01-28 15:28:08</td>\n",
       "      <td>0ceee2ae489c5c68a483c0c3cd6d9b54</td>\n",
       "      <td>148c8d0134dc05ce921c489983558b93</td>\n",
       "      <td>3.330000</td>\n",
       "      <td>3.330000</td>\n",
       "      <td>1.570000</td>\n",
       "      <td>0</td>\n",
       "      <td>3e1c802d7407a4d2ff7eec1482f53fb5</td>\n",
       "      <td>e73355e7a58b57d741111e7ab3855265</td>\n",
       "      <td>0</td>\n",
       "    </tr>\n",
       "    <tr>\n",
       "      <th>4</th>\n",
       "      <td>4703</td>\n",
       "      <td>2015-02-25 11:22:34</td>\n",
       "      <td>2cb1dc0de7a4be59f58d87fdefa91a59</td>\n",
       "      <td>3c788027ffc11385ebda482981af8637</td>\n",
       "      <td>1.943101</td>\n",
       "      <td>1.157082</td>\n",
       "      <td>1.935554</td>\n",
       "      <td>1</td>\n",
       "      <td>113593efe095675415192b4aa1ab8653</td>\n",
       "      <td>796c5815752a170021838a78bf7fab34</td>\n",
       "      <td>0</td>\n",
       "    </tr>\n",
       "  </tbody>\n",
       "</table>\n",
       "</div>"
      ],
      "text/plain": [
       "   orderID            orderTime                            userID  \\\n",
       "0     3829  2015-02-17 15:49:32  37aa37a3d4db63cfedbf976daddebf5c   \n",
       "1     4805  2015-02-25 20:28:10  a8336131974a67f838d998609c0e2604   \n",
       "2     1658  2015-02-28 23:30:58  f929ef735361e29928150e526255e4a4   \n",
       "3     2029  2015-01-28 15:28:08  0ceee2ae489c5c68a483c0c3cd6d9b54   \n",
       "4     4703  2015-02-25 11:22:34  2cb1dc0de7a4be59f58d87fdefa91a59   \n",
       "\n",
       "                           couponID      price  basePrice    reward  \\\n",
       "0  a35974920ba3c9b3a6e50a89910e6b81   9.170000   2.040000  0.940000   \n",
       "1  3867cafee56ece2ea5f8db4815cadcb6  11.580000   4.820000  1.260000   \n",
       "2  cb82eed23c715dc002ce4d8070aedaf7   6.308566   4.385443  1.942977   \n",
       "3  148c8d0134dc05ce921c489983558b93   3.330000   3.330000  1.570000   \n",
       "4  3c788027ffc11385ebda482981af8637   1.943101   1.157082  1.935554   \n",
       "\n",
       "   premiumProduct                      productGroup  \\\n",
       "0               1  c06dc2b4a5f7ecdfa27a83acf7a29423   \n",
       "1               0  369e08938fbb263ee8d7700a909231c3   \n",
       "2               0  766fb91efebff83f298f780e7524b276   \n",
       "3               0  3e1c802d7407a4d2ff7eec1482f53fb5   \n",
       "4               1  113593efe095675415192b4aa1ab8653   \n",
       "\n",
       "                                         categoryIDs  couponUsed  \n",
       "0  b7e3b0110f96213f5087034b92be487a,667daa357f899...           1  \n",
       "1                   f03040c27bfa597712980825477b32d5           0  \n",
       "2                   b7e3b0110f96213f5087034b92be487a           0  \n",
       "3                   e73355e7a58b57d741111e7ab3855265           0  \n",
       "4                   796c5815752a170021838a78bf7fab34           0  "
      ]
     },
     "execution_count": 5,
     "metadata": {},
     "output_type": "execute_result"
    }
   ],
   "source": [
    "# Checking top 5 rows of dataset\n",
    "data.head()"
   ]
  },
  {
   "cell_type": "code",
   "execution_count": null,
   "id": "46d943ed",
   "metadata": {},
   "outputs": [],
   "source": [
    "# Checking the shape of the dataset\n",
    "data.shape"
   ]
  },
  {
   "cell_type": "markdown",
   "id": "f347140c",
   "metadata": {},
   "source": [
    "## Defining Input and Output Features"
   ]
  },
  {
   "cell_type": "code",
   "execution_count": null,
   "id": "af3f0493",
   "metadata": {},
   "outputs": [],
   "source": [
    "# Defining input (X) and output (y) features\n",
    "X = data.iloc[:, :-1].values\n",
    "y = data.iloc[:, -1].values"
   ]
  },
  {
   "cell_type": "code",
   "execution_count": null,
   "id": "7970edb6",
   "metadata": {},
   "outputs": [],
   "source": [
    "# Checking the shape of input-output features\n",
    "X.shape, y.shape"
   ]
  },
  {
   "cell_type": "code",
   "execution_count": null,
   "id": "eefdd285",
   "metadata": {},
   "outputs": [],
   "source": [
    "# Creating training and test patterns\n",
    "from sklearn.model_selection import train_test_split\n",
    "X_train, X_test, y_train, y_test = train_test_split(X, y, test_size = 0.1302, shuffle=True, random_state = 0)"
   ]
  },
  {
   "cell_type": "code",
   "execution_count": null,
   "id": "a8a18fc2",
   "metadata": {},
   "outputs": [],
   "source": [
    "# Checking shape of training and test sets\n",
    "X_train.shape, X_test.shape"
   ]
  },
  {
   "cell_type": "code",
   "execution_count": null,
   "id": "286c3100",
   "metadata": {},
   "outputs": [],
   "source": [
    "# Checking the input training patterns\n",
    "print(X_train)"
   ]
  },
  {
   "cell_type": "code",
   "execution_count": null,
   "id": "024fdf17",
   "metadata": {},
   "outputs": [],
   "source": [
    "# Feature scaling (z-standardization)\n",
    "from sklearn.preprocessing import StandardScaler\n",
    "sc = StandardScaler()\n",
    "X_train = sc.fit_transform(X_train)\n",
    "X_test = sc.transform(X_test)"
   ]
  },
  {
   "cell_type": "code",
   "execution_count": null,
   "id": "3f107db6",
   "metadata": {},
   "outputs": [],
   "source": [
    "# Checking the scaled input training patterns\n",
    "print(X_train)"
   ]
  },
  {
   "cell_type": "markdown",
   "id": "06982319",
   "metadata": {},
   "source": [
    "## Defining a Logistic Regession Model"
   ]
  },
  {
   "cell_type": "code",
   "execution_count": null,
   "id": "607a12a7",
   "metadata": {},
   "outputs": [],
   "source": [
    "# Defining a logistic regression model\n",
    "from sklearn.linear_model import LogisticRegression\n",
    "logistic_rgr = LogisticRegression(random_state = 0)"
   ]
  },
  {
   "cell_type": "code",
   "execution_count": null,
   "id": "47129191",
   "metadata": {},
   "outputs": [],
   "source": [
    "# Training the logistic regression classifier\n",
    "logistic_rgr.fit(X_train, y_train)"
   ]
  },
  {
   "cell_type": "markdown",
   "id": "f1a3db63",
   "metadata": {},
   "source": [
    "## Prediction and Evaluation"
   ]
  },
  {
   "cell_type": "code",
   "execution_count": null,
   "id": "c33677f1",
   "metadata": {},
   "outputs": [],
   "source": [
    "# Making predictions with the test data\n",
    "y_pred = logistic_rgr.predict(X_test)"
   ]
  },
  {
   "cell_type": "code",
   "execution_count": null,
   "id": "6a12483a",
   "metadata": {},
   "outputs": [],
   "source": [
    "# Combining the predicted and actual values\n",
    "pd.DataFrame(data={'Predicted Profit': y_pred, 'Actual Profit': y_test})"
   ]
  },
  {
   "cell_type": "code",
   "execution_count": null,
   "id": "3cc264a1",
   "metadata": {},
   "outputs": [],
   "source": [
    "# Confusion matrix\n",
    "from sklearn.metrics import confusion_matrix\n",
    "print(confusion_matrix(y_test, y_pred))"
   ]
  },
  {
   "cell_type": "code",
   "execution_count": null,
   "id": "dc839352",
   "metadata": {},
   "outputs": [],
   "source": [
    "# Accuracy score\n",
    "from sklearn.metrics import accuracy_score\n",
    "accuracy_score(y_test, y_pred)"
   ]
  },
  {
   "cell_type": "code",
   "execution_count": null,
   "id": "36c0db37",
   "metadata": {},
   "outputs": [],
   "source": [
    "# Classification report\n",
    "from sklearn.metrics import classification_report\n",
    "print(classification_report(y_test, y_pred))"
   ]
  }
 ],
 "metadata": {
  "kernelspec": {
   "display_name": "Python 3 (ipykernel)",
   "language": "python",
   "name": "python3"
  },
  "language_info": {
   "codemirror_mode": {
    "name": "ipython",
    "version": 3
   },
   "file_extension": ".py",
   "mimetype": "text/x-python",
   "name": "python",
   "nbconvert_exporter": "python",
   "pygments_lexer": "ipython3",
   "version": "3.10.6"
  }
 },
 "nbformat": 4,
 "nbformat_minor": 5
}
